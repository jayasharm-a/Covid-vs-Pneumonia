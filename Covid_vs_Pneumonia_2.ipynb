{
  "cells": [
    {
      "cell_type": "markdown",
      "metadata": {
        "id": "view-in-github",
        "colab_type": "text"
      },
      "source": [
        "<a href=\"https://colab.research.google.com/github/jayasharm-a/Covid-vs-Pneumonia/blob/main/Covid_vs_Pneumonia_2.ipynb\" target=\"_parent\"><img src=\"https://colab.research.google.com/assets/colab-badge.svg\" alt=\"Open In Colab\"/></a>"
      ]
    },
    {
      "cell_type": "code",
      "execution_count": null,
      "metadata": {
        "_cell_guid": "b1076dfc-b9ad-4769-8c92-a6c4dae69d19",
        "_uuid": "8f2839f25d086af736a60e9eeb907d3b93b6e0e5",
        "execution": {
          "iopub.execute_input": "2023-02-28T16:26:55.163590Z",
          "iopub.status.busy": "2023-02-28T16:26:55.162110Z",
          "iopub.status.idle": "2023-02-28T16:26:55.177435Z",
          "shell.execute_reply": "2023-02-28T16:26:55.175915Z",
          "shell.execute_reply.started": "2023-02-28T16:26:55.163527Z"
        },
        "id": "R-Jy7DjTrczm"
      },
      "outputs": [],
      "source": [
        "import pandas as pd\n",
        "\n",
        "# Load COVID dataset\n",
        "covid_df = pd.read_csv('../Dataset/Covid/metadata.csv')\n",
        "#covid_df['label'] = 'COVID'  # Add a new column to label the data as COVID\n",
        "\n",
        "\n"
      ]
    },
    {
      "cell_type": "code",
      "execution_count": null,
      "metadata": {
        "execution": {
          "iopub.execute_input": "2023-02-28T16:27:05.857836Z",
          "iopub.status.busy": "2023-02-28T16:27:05.856533Z",
          "iopub.status.idle": "2023-02-28T16:27:05.870851Z",
          "shell.execute_reply": "2023-02-28T16:27:05.869644Z",
          "shell.execute_reply.started": "2023-02-28T16:27:05.857783Z"
        },
        "id": "vTp0vDklrczo",
        "outputId": "9c899f43-485a-4def-c0fd-84817f22e04d"
      },
      "outputs": [
        {
          "data": {
            "text/html": [
              "<div>\n",
              "<style scoped>\n",
              "    .dataframe tbody tr th:only-of-type {\n",
              "        vertical-align: middle;\n",
              "    }\n",
              "\n",
              "    .dataframe tbody tr th {\n",
              "        vertical-align: top;\n",
              "    }\n",
              "\n",
              "    .dataframe thead th {\n",
              "        text-align: right;\n",
              "    }\n",
              "</style>\n",
              "<table border=\"1\" class=\"dataframe\">\n",
              "  <thead>\n",
              "    <tr style=\"text-align: right;\">\n",
              "      <th></th>\n",
              "      <th>directory</th>\n",
              "      <th>class</th>\n",
              "    </tr>\n",
              "  </thead>\n",
              "  <tbody>\n",
              "    <tr>\n",
              "      <th>0</th>\n",
              "      <td>covid/COVID19(308).jpg</td>\n",
              "      <td>1</td>\n",
              "    </tr>\n",
              "    <tr>\n",
              "      <th>1</th>\n",
              "      <td>covid/COVID-19 (839).jpg</td>\n",
              "      <td>1</td>\n",
              "    </tr>\n",
              "    <tr>\n",
              "      <th>2</th>\n",
              "      <td>covid/COVID-19 (105).jpg</td>\n",
              "      <td>1</td>\n",
              "    </tr>\n",
              "    <tr>\n",
              "      <th>3</th>\n",
              "      <td>covid/COVID-19 (379).jpg</td>\n",
              "      <td>1</td>\n",
              "    </tr>\n",
              "    <tr>\n",
              "      <th>4</th>\n",
              "      <td>covid/COVID19(443).jpg</td>\n",
              "      <td>1</td>\n",
              "    </tr>\n",
              "  </tbody>\n",
              "</table>\n",
              "</div>"
            ],
            "text/plain": [
              "                  directory  class\n",
              "0    covid/COVID19(308).jpg      1\n",
              "1  covid/COVID-19 (839).jpg      1\n",
              "2  covid/COVID-19 (105).jpg      1\n",
              "3  covid/COVID-19 (379).jpg      1\n",
              "4    covid/COVID19(443).jpg      1"
            ]
          },
          "execution_count": 2,
          "metadata": {},
          "output_type": "execute_result"
        }
      ],
      "source": [
        "covid_df.head()"
      ]
    },
    {
      "cell_type": "code",
      "execution_count": null,
      "metadata": {
        "execution": {
          "iopub.execute_input": "2023-02-28T16:27:22.883973Z",
          "iopub.status.busy": "2023-02-28T16:27:22.882943Z",
          "iopub.status.idle": "2023-02-28T16:27:22.891895Z",
          "shell.execute_reply": "2023-02-28T16:27:22.890634Z",
          "shell.execute_reply.started": "2023-02-28T16:27:22.883916Z"
        },
        "id": "42pNQyybrczp",
        "outputId": "e2d54757-269f-45f0-f877-88c17642dafd"
      },
      "outputs": [
        {
          "data": {
            "text/plain": [
              "(4575, 2)"
            ]
          },
          "execution_count": 3,
          "metadata": {},
          "output_type": "execute_result"
        }
      ],
      "source": [
        "covid_df.shape"
      ]
    },
    {
      "cell_type": "code",
      "execution_count": null,
      "metadata": {
        "execution": {
          "iopub.execute_input": "2023-02-28T16:45:23.687775Z",
          "iopub.status.busy": "2023-02-28T16:45:23.687351Z",
          "iopub.status.idle": "2023-02-28T16:45:23.705521Z",
          "shell.execute_reply": "2023-02-28T16:45:23.704130Z",
          "shell.execute_reply.started": "2023-02-28T16:45:23.687744Z"
        },
        "id": "TAnyGuM3rczq",
        "outputId": "e018e61a-9c83-4d00-b99b-77ebbb5af1ec"
      },
      "outputs": [
        {
          "data": {
            "text/html": [
              "<div>\n",
              "<style scoped>\n",
              "    .dataframe tbody tr th:only-of-type {\n",
              "        vertical-align: middle;\n",
              "    }\n",
              "\n",
              "    .dataframe tbody tr th {\n",
              "        vertical-align: top;\n",
              "    }\n",
              "\n",
              "    .dataframe thead th {\n",
              "        text-align: right;\n",
              "    }\n",
              "</style>\n",
              "<table border=\"1\" class=\"dataframe\">\n",
              "  <thead>\n",
              "    <tr style=\"text-align: right;\">\n",
              "      <th></th>\n",
              "      <th>directory</th>\n",
              "      <th>class</th>\n",
              "    </tr>\n",
              "  </thead>\n",
              "  <tbody>\n",
              "    <tr>\n",
              "      <th>0</th>\n",
              "      <td>covid/COVID19(308).jpg</td>\n",
              "      <td>1</td>\n",
              "    </tr>\n",
              "    <tr>\n",
              "      <th>1</th>\n",
              "      <td>covid/COVID-19 (839).jpg</td>\n",
              "      <td>1</td>\n",
              "    </tr>\n",
              "    <tr>\n",
              "      <th>2</th>\n",
              "      <td>covid/COVID-19 (105).jpg</td>\n",
              "      <td>1</td>\n",
              "    </tr>\n",
              "    <tr>\n",
              "      <th>3</th>\n",
              "      <td>covid/COVID-19 (379).jpg</td>\n",
              "      <td>1</td>\n",
              "    </tr>\n",
              "    <tr>\n",
              "      <th>4</th>\n",
              "      <td>covid/COVID19(443).jpg</td>\n",
              "      <td>1</td>\n",
              "    </tr>\n",
              "    <tr>\n",
              "      <th>...</th>\n",
              "      <td>...</td>\n",
              "      <td>...</td>\n",
              "    </tr>\n",
              "    <tr>\n",
              "      <th>4570</th>\n",
              "      <td>normal/00000398_004.png</td>\n",
              "      <td>0</td>\n",
              "    </tr>\n",
              "    <tr>\n",
              "      <th>4571</th>\n",
              "      <td>normal/00000975_000.png</td>\n",
              "      <td>0</td>\n",
              "    </tr>\n",
              "    <tr>\n",
              "      <th>4572</th>\n",
              "      <td>normal/00000766_009.png</td>\n",
              "      <td>0</td>\n",
              "    </tr>\n",
              "    <tr>\n",
              "      <th>4573</th>\n",
              "      <td>normal/00000105_003.png</td>\n",
              "      <td>0</td>\n",
              "    </tr>\n",
              "    <tr>\n",
              "      <th>4574</th>\n",
              "      <td>normal/00000697_001.png</td>\n",
              "      <td>0</td>\n",
              "    </tr>\n",
              "  </tbody>\n",
              "</table>\n",
              "<p>4575 rows × 2 columns</p>\n",
              "</div>"
            ],
            "text/plain": [
              "                     directory  class\n",
              "0       covid/COVID19(308).jpg      1\n",
              "1     covid/COVID-19 (839).jpg      1\n",
              "2     covid/COVID-19 (105).jpg      1\n",
              "3     covid/COVID-19 (379).jpg      1\n",
              "4       covid/COVID19(443).jpg      1\n",
              "...                        ...    ...\n",
              "4570   normal/00000398_004.png      0\n",
              "4571   normal/00000975_000.png      0\n",
              "4572   normal/00000766_009.png      0\n",
              "4573   normal/00000105_003.png      0\n",
              "4574   normal/00000697_001.png      0\n",
              "\n",
              "[4575 rows x 2 columns]"
            ]
          },
          "execution_count": 4,
          "metadata": {},
          "output_type": "execute_result"
        }
      ],
      "source": [
        "covid_df"
      ]
    },
    {
      "cell_type": "code",
      "execution_count": null,
      "metadata": {
        "execution": {
          "iopub.execute_input": "2023-02-28T17:08:12.181743Z",
          "iopub.status.busy": "2023-02-28T17:08:12.181360Z",
          "iopub.status.idle": "2023-02-28T17:08:12.186321Z",
          "shell.execute_reply": "2023-02-28T17:08:12.185551Z",
          "shell.execute_reply.started": "2023-02-28T17:08:12.181714Z"
        },
        "id": "6VliAFxvrczq"
      },
      "outputs": [],
      "source": [
        "df_y = covid_df['class']\n",
        "df_x = covid_df['directory']"
      ]
    },
    {
      "cell_type": "code",
      "execution_count": null,
      "metadata": {
        "execution": {
          "iopub.execute_input": "2023-02-28T17:08:43.133043Z",
          "iopub.status.busy": "2023-02-28T17:08:43.132486Z",
          "iopub.status.idle": "2023-02-28T17:08:43.142322Z",
          "shell.execute_reply": "2023-02-28T17:08:43.141075Z",
          "shell.execute_reply.started": "2023-02-28T17:08:43.132990Z"
        },
        "id": "bh16iemGrczr",
        "outputId": "3b0ab619-61e1-4468-d83f-7d2796871514"
      },
      "outputs": [
        {
          "data": {
            "text/plain": [
              "0         covid/COVID19(308).jpg\n",
              "1       covid/COVID-19 (839).jpg\n",
              "2       covid/COVID-19 (105).jpg\n",
              "3       covid/COVID-19 (379).jpg\n",
              "4         covid/COVID19(443).jpg\n",
              "                  ...           \n",
              "4570     normal/00000398_004.png\n",
              "4571     normal/00000975_000.png\n",
              "4572     normal/00000766_009.png\n",
              "4573     normal/00000105_003.png\n",
              "4574     normal/00000697_001.png\n",
              "Name: directory, Length: 4575, dtype: object"
            ]
          },
          "execution_count": 6,
          "metadata": {},
          "output_type": "execute_result"
        }
      ],
      "source": [
        "df_x"
      ]
    },
    {
      "cell_type": "code",
      "execution_count": null,
      "metadata": {
        "execution": {
          "iopub.execute_input": "2023-02-28T17:10:01.421925Z",
          "iopub.status.busy": "2023-02-28T17:10:01.420882Z",
          "iopub.status.idle": "2023-02-28T17:10:01.431045Z",
          "shell.execute_reply": "2023-02-28T17:10:01.429806Z",
          "shell.execute_reply.started": "2023-02-28T17:10:01.421870Z"
        },
        "id": "g0IRPnOyrczr",
        "outputId": "536ec02e-33c9-4e85-f43a-34acb4c8bd83"
      },
      "outputs": [
        {
          "data": {
            "text/plain": [
              "0       1\n",
              "1       1\n",
              "2       1\n",
              "3       1\n",
              "4       1\n",
              "       ..\n",
              "4570    0\n",
              "4571    0\n",
              "4572    0\n",
              "4573    0\n",
              "4574    0\n",
              "Name: class, Length: 4575, dtype: int64"
            ]
          },
          "execution_count": 7,
          "metadata": {},
          "output_type": "execute_result"
        }
      ],
      "source": [
        "df_y"
      ]
    },
    {
      "cell_type": "code",
      "execution_count": null,
      "metadata": {
        "execution": {
          "iopub.execute_input": "2023-02-28T17:10:40.041165Z",
          "iopub.status.busy": "2023-02-28T17:10:40.040714Z",
          "iopub.status.idle": "2023-02-28T17:10:40.054189Z",
          "shell.execute_reply": "2023-02-28T17:10:40.053214Z",
          "shell.execute_reply.started": "2023-02-28T17:10:40.041134Z"
        },
        "id": "BuuKD7Dtrczs",
        "outputId": "919a9f10-e8f2-4c18-f127-9be9ccd3bdbd"
      },
      "outputs": [
        {
          "data": {
            "text/plain": [
              "1    1525\n",
              "2    1525\n",
              "0    1525\n",
              "Name: class, dtype: int64"
            ]
          },
          "execution_count": 8,
          "metadata": {},
          "output_type": "execute_result"
        }
      ],
      "source": [
        "df_y.value_counts()"
      ]
    },
    {
      "cell_type": "code",
      "execution_count": null,
      "metadata": {
        "execution": {
          "iopub.execute_input": "2023-02-28T18:25:53.188271Z",
          "iopub.status.busy": "2023-02-28T18:25:53.187849Z",
          "iopub.status.idle": "2023-02-28T18:25:53.194030Z",
          "shell.execute_reply": "2023-02-28T18:25:53.192807Z",
          "shell.execute_reply.started": "2023-02-28T18:25:53.188237Z"
        },
        "id": "TI9T5G8vrczs"
      },
      "outputs": [],
      "source": [
        "\n",
        "import cv2\n",
        "import os\n",
        "from datetime import datetime\n",
        "import pandas as pd\n",
        "import numpy as np\n",
        "from keras.preprocessing.image import ImageDataGenerator\n"
      ]
    },
    {
      "cell_type": "code",
      "execution_count": null,
      "metadata": {
        "execution": {
          "iopub.execute_input": "2023-02-28T17:14:59.903623Z",
          "iopub.status.busy": "2023-02-28T17:14:59.903193Z",
          "iopub.status.idle": "2023-02-28T17:14:59.913490Z",
          "shell.execute_reply": "2023-02-28T17:14:59.912239Z",
          "shell.execute_reply.started": "2023-02-28T17:14:59.903591Z"
        },
        "id": "tc-bKTFIrczs",
        "outputId": "7c7aaa4e-fabd-4310-9931-204ec6a046c7"
      },
      "outputs": [
        {
          "data": {
            "application/javascript": [
              "\n",
              "        if (window._pyforest_update_imports_cell) { window._pyforest_update_imports_cell('from sklearn.model_selection import train_test_split'); }\n",
              "    "
            ],
            "text/plain": [
              "<IPython.core.display.Javascript object>"
            ]
          },
          "metadata": {},
          "output_type": "display_data"
        }
      ],
      "source": [
        "X_train, X_test, Y_train, Y_test = train_test_split(df_x, df_y, stratify=df_y, test_size=0.20, random_state=7)"
      ]
    },
    {
      "cell_type": "code",
      "execution_count": null,
      "metadata": {
        "execution": {
          "iopub.execute_input": "2023-02-28T17:15:11.177227Z",
          "iopub.status.busy": "2023-02-28T17:15:11.176773Z",
          "iopub.status.idle": "2023-02-28T17:15:11.186252Z",
          "shell.execute_reply": "2023-02-28T17:15:11.184602Z",
          "shell.execute_reply.started": "2023-02-28T17:15:11.177191Z"
        },
        "id": "QMZ8dmzqrczt",
        "outputId": "7198e2b0-4620-4207-e487-f09e9d087cd9"
      },
      "outputs": [
        {
          "data": {
            "text/plain": [
              "0    1220\n",
              "1    1220\n",
              "2    1220\n",
              "Name: class, dtype: int64"
            ]
          },
          "execution_count": 11,
          "metadata": {},
          "output_type": "execute_result"
        }
      ],
      "source": [
        "Y_train.value_counts()"
      ]
    },
    {
      "cell_type": "code",
      "execution_count": null,
      "metadata": {
        "execution": {
          "iopub.execute_input": "2023-02-28T17:16:17.079147Z",
          "iopub.status.busy": "2023-02-28T17:16:17.078456Z",
          "iopub.status.idle": "2023-02-28T17:16:17.089468Z",
          "shell.execute_reply": "2023-02-28T17:16:17.088059Z",
          "shell.execute_reply.started": "2023-02-28T17:16:17.079105Z"
        },
        "id": "PZYjc385rczt",
        "outputId": "7b385cdb-6865-481e-b497-22275fd5201b"
      },
      "outputs": [
        {
          "data": {
            "text/plain": [
              "1    305\n",
              "2    305\n",
              "0    305\n",
              "Name: class, dtype: int64"
            ]
          },
          "execution_count": 12,
          "metadata": {},
          "output_type": "execute_result"
        }
      ],
      "source": [
        "Y_test.value_counts()"
      ]
    },
    {
      "cell_type": "code",
      "execution_count": null,
      "metadata": {
        "execution": {
          "iopub.execute_input": "2023-02-28T17:16:37.913600Z",
          "iopub.status.busy": "2023-02-28T17:16:37.913165Z",
          "iopub.status.idle": "2023-02-28T17:16:37.931137Z",
          "shell.execute_reply": "2023-02-28T17:16:37.930304Z",
          "shell.execute_reply.started": "2023-02-28T17:16:37.913568Z"
        },
        "id": "Fw6ZH2eGrczt",
        "outputId": "6731fb50-2c6a-44c8-95d2-b9e40ffb5939"
      },
      "outputs": [
        {
          "data": {
            "text/html": [
              "<div>\n",
              "<style scoped>\n",
              "    .dataframe tbody tr th:only-of-type {\n",
              "        vertical-align: middle;\n",
              "    }\n",
              "\n",
              "    .dataframe tbody tr th {\n",
              "        vertical-align: top;\n",
              "    }\n",
              "\n",
              "    .dataframe thead th {\n",
              "        text-align: right;\n",
              "    }\n",
              "</style>\n",
              "<table border=\"1\" class=\"dataframe\">\n",
              "  <thead>\n",
              "    <tr style=\"text-align: right;\">\n",
              "      <th></th>\n",
              "      <th>directory</th>\n",
              "      <th>class</th>\n",
              "    </tr>\n",
              "  </thead>\n",
              "  <tbody>\n",
              "    <tr>\n",
              "      <th>614</th>\n",
              "      <td>covid/COVID-19 (506).jpg</td>\n",
              "      <td>1</td>\n",
              "    </tr>\n",
              "    <tr>\n",
              "      <th>2473</th>\n",
              "      <td>pneumonia/person23_bacteria_82.jpeg</td>\n",
              "      <td>2</td>\n",
              "    </tr>\n",
              "    <tr>\n",
              "      <th>501</th>\n",
              "      <td>covid/COVID19(241).jpg</td>\n",
              "      <td>1</td>\n",
              "    </tr>\n",
              "    <tr>\n",
              "      <th>912</th>\n",
              "      <td>covid/COVID-19 (219).jpg</td>\n",
              "      <td>1</td>\n",
              "    </tr>\n",
              "    <tr>\n",
              "      <th>1270</th>\n",
              "      <td>covid/COVID-19 (549).jpg</td>\n",
              "      <td>1</td>\n",
              "    </tr>\n",
              "  </tbody>\n",
              "</table>\n",
              "</div>"
            ],
            "text/plain": [
              "                                directory  class\n",
              "614              covid/COVID-19 (506).jpg      1\n",
              "2473  pneumonia/person23_bacteria_82.jpeg      2\n",
              "501                covid/COVID19(241).jpg      1\n",
              "912              covid/COVID-19 (219).jpg      1\n",
              "1270             covid/COVID-19 (549).jpg      1"
            ]
          },
          "execution_count": 13,
          "metadata": {},
          "output_type": "execute_result"
        }
      ],
      "source": [
        "test = pd.concat([X_test, Y_test], axis = 1)\n",
        "test.head()"
      ]
    },
    {
      "cell_type": "code",
      "execution_count": null,
      "metadata": {
        "execution": {
          "iopub.execute_input": "2023-02-28T17:32:26.458857Z",
          "iopub.status.busy": "2023-02-28T17:32:26.458350Z",
          "iopub.status.idle": "2023-02-28T17:32:26.465484Z",
          "shell.execute_reply": "2023-02-28T17:32:26.464125Z",
          "shell.execute_reply.started": "2023-02-28T17:32:26.458817Z"
        },
        "id": "nae_byLIrczt"
      },
      "outputs": [],
      "source": [
        "train_datagen = ImageDataGenerator(rescale=1./255, shear_range=0.2, zoom_range=0.2, horizontal_flip=True)\n",
        "test_datagen = ImageDataGenerator(rescale=1./255)"
      ]
    },
    {
      "cell_type": "code",
      "execution_count": null,
      "metadata": {
        "execution": {
          "iopub.execute_input": "2023-02-28T17:56:01.197950Z",
          "iopub.status.busy": "2023-02-28T17:56:01.197546Z",
          "iopub.status.idle": "2023-02-28T17:56:01.205567Z",
          "shell.execute_reply": "2023-02-28T17:56:01.204473Z",
          "shell.execute_reply.started": "2023-02-28T17:56:01.197917Z"
        },
        "id": "u3vJo9fSrczu"
      },
      "outputs": [],
      "source": []
    },
    {
      "cell_type": "code",
      "execution_count": null,
      "metadata": {
        "execution": {
          "iopub.execute_input": "2023-02-28T18:25:42.418597Z",
          "iopub.status.busy": "2023-02-28T18:25:42.418159Z",
          "iopub.status.idle": "2023-02-28T18:25:42.430276Z",
          "shell.execute_reply": "2023-02-28T18:25:42.428883Z",
          "shell.execute_reply.started": "2023-02-28T18:25:42.418563Z"
        },
        "id": "-FspEJiurczu"
      },
      "outputs": [],
      "source": [
        "from tensorflow.keras.layers import Lambda, Reshape, DepthwiseConv2D, ZeroPadding2D, Add, MaxPooling2D,Activation, Flatten, Conv2D, Dense, Input, Dropout, Concatenate, GlobalMaxPooling2D, GlobalAveragePooling2D, BatchNormalization\n",
        "from tensorflow.keras.optimizers import Adam\n",
        "from tensorflow.keras import regularizers\n",
        "from tensorflow.keras import backend as K\n",
        "from tensorflow.keras.optimizers import Adam, RMSprop\n",
        "from tensorflow.keras.utils import to_categorical\n",
        "import gc\n",
        "from tensorflow.keras.layers import AveragePooling2D\n",
        "from tensorflow.keras.layers import Dropout, GlobalAveragePooling2D, Activation, BatchNormalization, Dropout, LSTM, ConvLSTM2D\n",
        "from tensorflow.keras.layers import Flatten\n",
        "from tensorflow.keras.layers import Dense\n",
        "from tensorflow.keras.callbacks import EarlyStopping, ReduceLROnPlateau, ModelCheckpoint,TensorBoard,TerminateOnNaN, LearningRateScheduler\n",
        "from tensorflow.keras.losses import binary_crossentropy\n",
        "from tensorflow.keras.callbacks import ModelCheckpoint, EarlyStopping, ReduceLROnPlateau, TerminateOnNaN\n",
        "from tensorflow.keras.preprocessing.image import ImageDataGenerator\n",
        "import tensorflow as tf\n",
        "from tensorflow.keras.layers import Input,Conv2D, SeparableConv2D, MaxPool2D, LeakyReLU, Activation, LSTM, ConvLSTM2D, Lambda, Reshape, BatchNormalization, Bidirectional\n",
        "from tensorflow.keras.models import Model\n",
        "import matplotlib.pyplot as plt\n",
        "import shutil"
      ]
    },
    {
      "cell_type": "code",
      "execution_count": null,
      "metadata": {
        "id": "r_EKYR97rczu",
        "outputId": "c26dbbbc-5d91-452e-c16f-91c07c1ad2c5"
      },
      "outputs": [
        {
          "data": {
            "text/plain": [
              "3502                    normal/00000242_003.png\n",
              "3855                    normal/00000798_002.png\n",
              "529                       covid/COVID19(16).jpg\n",
              "3660                    normal/00001068_003.png\n",
              "4371                    normal/00001039_004.png\n",
              "2698    pneumonia/person1040_bacteria_2974.jpeg\n",
              "991                    covid/COVID-19 (636).jpg\n",
              "1499                   covid/COVID-19 (786).jpg\n",
              "3743                    normal/00000538_000.png\n",
              "1679     pneumonia/person423_bacteria_1858.jpeg\n",
              "Name: directory, dtype: object"
            ]
          },
          "execution_count": 17,
          "metadata": {},
          "output_type": "execute_result"
        }
      ],
      "source": [
        "X_train[:10]"
      ]
    },
    {
      "cell_type": "code",
      "execution_count": null,
      "metadata": {
        "execution": {
          "iopub.execute_input": "2023-02-28T18:02:54.774032Z",
          "iopub.status.busy": "2023-02-28T18:02:54.773608Z",
          "iopub.status.idle": "2023-02-28T18:02:55.083628Z",
          "shell.execute_reply": "2023-02-28T18:02:55.082450Z",
          "shell.execute_reply.started": "2023-02-28T18:02:54.773986Z"
        },
        "id": "tojNPcwJrczv"
      },
      "outputs": [],
      "source": [
        "def filter_images():\n",
        "    input_path=\"../Dataset/Covid/COVID19_Pneumonia_Normal_Chest_Xray_PA_Dataset\"\n",
        "    output_path=\"../Dataset/output/covid19-pneumonia-normal-chest-xray-pa-dataset\"\n",
        "    classs=['normal','covid','pneumonia']\n",
        "    for c in classs:\n",
        "        if not os.path.exists(output_path  + c):\n",
        "            os.makedirs(output_path  + c)\n",
        "    for row in X_train:\n",
        "        path_from = \"{}/{}\".format(input_path, row)\n",
        "        path_to = \"{}/{}\".format(output_path, row)\n",
        "        if os.path.exists(path_from):\n",
        "            shutil.copy(path_from,path_to)\n",
        "filter_images()"
      ]
    },
    {
      "cell_type": "code",
      "execution_count": null,
      "metadata": {
        "execution": {
          "iopub.execute_input": "2023-02-28T18:12:04.744697Z",
          "iopub.status.busy": "2023-02-28T18:12:04.743328Z",
          "iopub.status.idle": "2023-02-28T18:12:04.751749Z",
          "shell.execute_reply": "2023-02-28T18:12:04.750375Z",
          "shell.execute_reply.started": "2023-02-28T18:12:04.744638Z"
        },
        "id": "SvkxR1o9rczv"
      },
      "outputs": [],
      "source": [
        "# used to copy files according to each fold\n",
        "def copy_images(covid_df, directory):\n",
        "\n",
        "    # input and output directory\n",
        "    input_path = \"../Dataset/Covid/COVID19_Pneumonia_Normal_Chest_Xray_PA_Dataset\"\n",
        "    output_path = \"../Dataset/\" + directory\n",
        "\n",
        "    # remove all files from previous fold\n",
        "    if os.path.exists(output_path):\n",
        "        shutil.rmtree(output_path)\n",
        "\n",
        "    # create folder for files from this fold\n",
        "    if not os.path.exists(output_path):\n",
        "        os.makedirs(output_path)\n",
        "\n",
        "    # create subfolders for each class\n",
        "    classs=['normal','covid','pneumonia']\n",
        "    for c in classs:\n",
        "        if not os.path.exists(output_path + c):\n",
        "            os.makedirs(output_path + c)\n",
        "\n",
        "  # copy files\n",
        "    for row in covid_df:\n",
        "        path_from = \"{}/{}\".format(input_path, row)\n",
        "        path_to = \"{}/{}\".format(output_path, row)\n",
        "        if os.path.exists(path_from):\n",
        "            shutil.copy(path_from, path_to)\n",
        "        #print(path_from)"
      ]
    },
    {
      "cell_type": "code",
      "execution_count": null,
      "metadata": {
        "execution": {
          "iopub.execute_input": "2023-02-28T18:12:08.261714Z",
          "iopub.status.busy": "2023-02-28T18:12:08.261253Z",
          "iopub.status.idle": "2023-02-28T18:12:08.267363Z",
          "shell.execute_reply": "2023-02-28T18:12:08.266169Z",
          "shell.execute_reply.started": "2023-02-28T18:12:08.261677Z"
        },
        "id": "UVaRJNrgrczv"
      },
      "outputs": [],
      "source": [
        "copy_images(test,'test')"
      ]
    },
    {
      "cell_type": "code",
      "execution_count": null,
      "metadata": {
        "execution": {
          "iopub.execute_input": "2023-02-28T18:12:37.272613Z",
          "iopub.status.busy": "2023-02-28T18:12:37.272116Z",
          "iopub.status.idle": "2023-02-28T18:12:38.393858Z",
          "shell.execute_reply": "2023-02-28T18:12:38.392444Z",
          "shell.execute_reply.started": "2023-02-28T18:12:37.272579Z"
        },
        "id": "miswLJfArczw",
        "outputId": "6e1c78a6-c0ee-48b4-e666-c06fe488ca8e"
      },
      "outputs": [
        {
          "name": "stdout",
          "output_type": "stream",
          "text": [
            " Volume in drive D is DATA\n",
            " Volume Serial Number is 567E-1F8B\n",
            "\n",
            " Directory of D:\\Machine_Learning\\major project\\Prject-HealthCare\\dataset\\test\n",
            "\n",
            "02-03-2023  00:19    <DIR>          .\n",
            "02-03-2023  00:19    <DIR>          ..\n",
            "02-03-2023  00:19    <DIR>          covid\n",
            "02-03-2023  00:19    <DIR>          normal\n",
            "02-03-2023  00:19    <DIR>          pneumonia\n",
            "               0 File(s)              0 bytes\n",
            "               5 Dir(s)  642,144,776,192 bytes free\n"
          ]
        }
      ],
      "source": [
        "!dir \"../dataset/test\""
      ]
    },
    {
      "cell_type": "code",
      "execution_count": null,
      "metadata": {
        "execution": {
          "iopub.execute_input": "2023-02-28T18:13:05.530394Z",
          "iopub.status.busy": "2023-02-28T18:13:05.528732Z",
          "iopub.status.idle": "2023-02-28T18:13:05.539942Z",
          "shell.execute_reply": "2023-02-28T18:13:05.538123Z",
          "shell.execute_reply.started": "2023-02-28T18:13:05.530343Z"
        },
        "id": "4viCszL9rczw",
        "outputId": "830ccbb0-2f64-4106-8e87-3b04c11dc9bf"
      },
      "outputs": [
        {
          "data": {
            "text/plain": [
              "305"
            ]
          },
          "execution_count": 30,
          "metadata": {},
          "output_type": "execute_result"
        }
      ],
      "source": [
        "len(os.listdir('../dataset/test/covid'))"
      ]
    },
    {
      "cell_type": "code",
      "execution_count": null,
      "metadata": {
        "execution": {
          "iopub.execute_input": "2023-02-28T18:13:47.776549Z",
          "iopub.status.busy": "2023-02-28T18:13:47.776089Z",
          "iopub.status.idle": "2023-02-28T18:13:47.785262Z",
          "shell.execute_reply": "2023-02-28T18:13:47.783783Z",
          "shell.execute_reply.started": "2023-02-28T18:13:47.776516Z"
        },
        "id": "QWq_LWjZrczw",
        "outputId": "63cf44ea-02ca-47da-eebe-e2d438981d57"
      },
      "outputs": [
        {
          "data": {
            "text/plain": [
              "305"
            ]
          },
          "execution_count": 32,
          "metadata": {},
          "output_type": "execute_result"
        }
      ],
      "source": [
        "len(os.listdir('../dataset/test/normal'))"
      ]
    },
    {
      "cell_type": "code",
      "execution_count": null,
      "metadata": {
        "execution": {
          "iopub.execute_input": "2023-02-28T18:14:05.164236Z",
          "iopub.status.busy": "2023-02-28T18:14:05.163716Z",
          "iopub.status.idle": "2023-02-28T18:14:05.173277Z",
          "shell.execute_reply": "2023-02-28T18:14:05.171935Z",
          "shell.execute_reply.started": "2023-02-28T18:14:05.164194Z"
        },
        "id": "PHqThNfNrczx",
        "outputId": "5b9171d7-3dd4-4ded-e623-cc092beac892"
      },
      "outputs": [
        {
          "data": {
            "text/plain": [
              "124"
            ]
          },
          "execution_count": 33,
          "metadata": {},
          "output_type": "execute_result"
        }
      ],
      "source": [
        "len(os.listdir('../dataset/test/pneumonia'))"
      ]
    },
    {
      "cell_type": "code",
      "execution_count": null,
      "metadata": {
        "id": "sgcfqPHgrczx",
        "outputId": "9e807590-0d0a-4415-b959-76ea146e0b65"
      },
      "outputs": [
        {
          "data": {
            "text/plain": [
              "1525"
            ]
          },
          "execution_count": 35,
          "metadata": {},
          "output_type": "execute_result"
        }
      ],
      "source": [
        "len(os.listdir('../Dataset/Covid/COVID19_Pneumonia_Normal_Chest_Xray_PA_Dataset/pneumonia/'))"
      ]
    },
    {
      "cell_type": "code",
      "execution_count": null,
      "metadata": {
        "execution": {
          "iopub.execute_input": "2023-03-01T17:40:20.730556Z",
          "iopub.status.busy": "2023-03-01T17:40:20.729649Z",
          "iopub.status.idle": "2023-03-01T17:40:20.744238Z",
          "shell.execute_reply": "2023-03-01T17:40:20.742471Z",
          "shell.execute_reply.started": "2023-03-01T17:40:20.730493Z"
        },
        "id": "p2xlg9KVrczx"
      },
      "outputs": [],
      "source": [
        "def get_model():\n",
        "\n",
        "\n",
        "    img_dims=224\n",
        "    inputs = Input(shape=(img_dims, img_dims, 3))\n",
        "\n",
        "\n",
        "    x = Conv2D(filters=64, kernel_size=(3, 3), activation='relu', trainable=False, padding='same')(inputs)\n",
        "    x = Conv2D(filters=64, kernel_size=(3, 3), activation='relu', trainable=False, padding='same')(x)\n",
        "    x = BatchNormalization()(x)\n",
        "    x = MaxPool2D(pool_size=(2, 2))(x)\n",
        "\n",
        "\n",
        "    x = Conv2D(filters=128, kernel_size=(3, 3), activation='relu', trainable=False, padding='same')(x)\n",
        "    x = Conv2D(filters=128, kernel_size=(3, 3), activation='relu', trainable=False, padding='same')(x)\n",
        "    x = BatchNormalization()(x)\n",
        "    x = MaxPool2D(pool_size=(2, 2))(x)\n",
        "\n",
        "    x = Flatten(name=\"flatten\")(x)\n",
        "    x = Dense(units=64, activation='relu')(x)\n",
        "    x = BatchNormalization()(x)\n",
        "    x = Dropout(0.5)(x)\n",
        "\n",
        "    output = Dense(units=3, activation='softmax')(x)\n",
        "\n",
        "    model = Model(inputs=inputs, outputs=output)\n",
        "    opt = RMSprop(lr=0.0001, decay=1e-6)\n",
        "    model.compile(loss='categorical_crossentropy', optimizer=opt, metrics=[\"accuracy\"])\n",
        "\n",
        "    return model"
      ]
    },
    {
      "cell_type": "code",
      "execution_count": null,
      "metadata": {
        "execution": {
          "iopub.execute_input": "2023-03-01T17:42:18.445424Z",
          "iopub.status.busy": "2023-03-01T17:42:18.444812Z",
          "iopub.status.idle": "2023-03-01T17:42:18.473448Z",
          "shell.execute_reply": "2023-03-01T17:42:18.470975Z",
          "shell.execute_reply.started": "2023-03-01T17:42:18.445379Z"
        },
        "id": "K2wbOahIrczx"
      },
      "outputs": [],
      "source": [
        "from math import floor\n",
        "from sklearn.model_selection import StratifiedKFold\n",
        "N_FOLDS = 5\n",
        "EPOCHS = 50\n",
        "INIT_LR = 3e-4\n",
        "T_BS = 16\n",
        "V_BS = 16\n",
        "decay_rate = 0.95\n",
        "decay_step = 1\n",
        "\n",
        "skf = StratifiedKFold(n_splits = 5, random_state = 7, shuffle = True)\n",
        "log_dir = \"./logs/\" + datetime.now().strftime(\"%Y%m%d-%H%M%S\")\n",
        "tensorboard_callback = TensorBoard(log_dir=log_dir, histogram_freq=1)\n",
        "\n",
        "callbacks = [ModelCheckpoint(filepath='best_cnn_model.h5', monitor='val_loss',mode='min',verbose=1,save_best_only=True,save_weights_only=True),\n",
        "             LearningRateScheduler(lambda epoch : INIT_LR * pow(decay_rate, floor(epoch / decay_step))), tensorboard_callback]"
      ]
    },
    {
      "cell_type": "code",
      "execution_count": null,
      "metadata": {
        "execution": {
          "iopub.execute_input": "2023-03-01T17:42:49.332276Z",
          "iopub.status.busy": "2023-03-01T17:42:49.331731Z",
          "iopub.status.idle": "2023-03-01T17:42:49.338605Z",
          "shell.execute_reply": "2023-03-01T17:42:49.337455Z",
          "shell.execute_reply.started": "2023-03-01T17:42:49.332232Z"
        },
        "id": "tn-sOUGJrczy"
      },
      "outputs": [],
      "source": [
        "class_to_label_map = {2 : 'pneumonia', 1 : 'covid', 0 : 'normal'}"
      ]
    },
    {
      "cell_type": "code",
      "execution_count": null,
      "metadata": {
        "id": "VEbXCgugrczy",
        "outputId": "52600cdb-464c-4b7e-91e8-6e8b5f8d8524"
      },
      "outputs": [
        {
          "name": "stdout",
          "output_type": "stream",
          "text": [
            "0    976\n",
            "2    976\n",
            "1    976\n",
            "Name: class, dtype: int64\n",
            "1    244\n",
            "2    244\n",
            "0    244\n",
            "Name: class, dtype: int64\n",
            "Running fold 1\n"
          ]
        },
        {
          "name": "stderr",
          "output_type": "stream",
          "text": [
            "D:\\Anaconda\\lib\\site-packages\\keras\\optimizer_v2\\optimizer_v2.py:356: UserWarning: The `lr` argument is deprecated, use `learning_rate` instead.\n",
            "  \"The `lr` argument is deprecated, use `learning_rate` instead.\")\n"
          ]
        },
        {
          "name": "stdout",
          "output_type": "stream",
          "text": [
            "Model: \"model_1\"\n",
            "_________________________________________________________________\n",
            "Layer (type)                 Output Shape              Param #   \n",
            "=================================================================\n",
            "input_2 (InputLayer)         [(None, 224, 224, 3)]     0         \n",
            "_________________________________________________________________\n",
            "conv2d_4 (Conv2D)            (None, 224, 224, 64)      1792      \n",
            "_________________________________________________________________\n",
            "conv2d_5 (Conv2D)            (None, 224, 224, 64)      36928     \n",
            "_________________________________________________________________\n",
            "batch_normalization_3 (Batch (None, 224, 224, 64)      256       \n",
            "_________________________________________________________________\n",
            "max_pooling2d_2 (MaxPooling2 (None, 112, 112, 64)      0         \n",
            "_________________________________________________________________\n",
            "conv2d_6 (Conv2D)            (None, 112, 112, 128)     73856     \n",
            "_________________________________________________________________\n",
            "conv2d_7 (Conv2D)            (None, 112, 112, 128)     147584    \n",
            "_________________________________________________________________\n",
            "batch_normalization_4 (Batch (None, 112, 112, 128)     512       \n",
            "_________________________________________________________________\n",
            "max_pooling2d_3 (MaxPooling2 (None, 56, 56, 128)       0         \n",
            "_________________________________________________________________\n",
            "flatten (Flatten)            (None, 401408)            0         \n",
            "_________________________________________________________________\n",
            "dense_2 (Dense)              (None, 64)                25690176  \n",
            "_________________________________________________________________\n",
            "batch_normalization_5 (Batch (None, 64)                256       \n",
            "_________________________________________________________________\n",
            "dropout_1 (Dropout)          (None, 64)                0         \n",
            "_________________________________________________________________\n",
            "dense_3 (Dense)              (None, 3)                 195       \n",
            "=================================================================\n",
            "Total params: 25,951,555\n",
            "Trainable params: 25,690,883\n",
            "Non-trainable params: 260,672\n",
            "_________________________________________________________________\n",
            "0    976\n",
            "1    976\n",
            "2    976\n",
            "Name: class, dtype: int64\n",
            "0    244\n",
            "1    244\n",
            "2    244\n",
            "Name: class, dtype: int64\n",
            "Running fold 2\n",
            "Model: \"model_2\"\n",
            "_________________________________________________________________\n",
            "Layer (type)                 Output Shape              Param #   \n",
            "=================================================================\n",
            "input_3 (InputLayer)         [(None, 224, 224, 3)]     0         \n",
            "_________________________________________________________________\n",
            "conv2d_8 (Conv2D)            (None, 224, 224, 64)      1792      \n",
            "_________________________________________________________________\n",
            "conv2d_9 (Conv2D)            (None, 224, 224, 64)      36928     \n",
            "_________________________________________________________________\n",
            "batch_normalization_6 (Batch (None, 224, 224, 64)      256       \n",
            "_________________________________________________________________\n",
            "max_pooling2d_4 (MaxPooling2 (None, 112, 112, 64)      0         \n",
            "_________________________________________________________________\n",
            "conv2d_10 (Conv2D)           (None, 112, 112, 128)     73856     \n",
            "_________________________________________________________________\n",
            "conv2d_11 (Conv2D)           (None, 112, 112, 128)     147584    \n",
            "_________________________________________________________________\n",
            "batch_normalization_7 (Batch (None, 112, 112, 128)     512       \n",
            "_________________________________________________________________\n",
            "max_pooling2d_5 (MaxPooling2 (None, 56, 56, 128)       0         \n",
            "_________________________________________________________________\n",
            "flatten (Flatten)            (None, 401408)            0         \n",
            "_________________________________________________________________\n",
            "dense_4 (Dense)              (None, 64)                25690176  \n",
            "_________________________________________________________________\n",
            "batch_normalization_8 (Batch (None, 64)                256       \n",
            "_________________________________________________________________\n",
            "dropout_2 (Dropout)          (None, 64)                0         \n",
            "_________________________________________________________________\n",
            "dense_5 (Dense)              (None, 3)                 195       \n",
            "=================================================================\n",
            "Total params: 25,951,555\n",
            "Trainable params: 25,690,883\n",
            "Non-trainable params: 260,672\n",
            "_________________________________________________________________\n",
            "0    976\n",
            "1    976\n",
            "2    976\n",
            "Name: class, dtype: int64\n",
            "0    244\n",
            "1    244\n",
            "2    244\n",
            "Name: class, dtype: int64\n",
            "Running fold 3\n",
            "Model: \"model_3\"\n",
            "_________________________________________________________________\n",
            "Layer (type)                 Output Shape              Param #   \n",
            "=================================================================\n",
            "input_4 (InputLayer)         [(None, 224, 224, 3)]     0         \n",
            "_________________________________________________________________\n",
            "conv2d_12 (Conv2D)           (None, 224, 224, 64)      1792      \n",
            "_________________________________________________________________\n",
            "conv2d_13 (Conv2D)           (None, 224, 224, 64)      36928     \n",
            "_________________________________________________________________\n",
            "batch_normalization_9 (Batch (None, 224, 224, 64)      256       \n",
            "_________________________________________________________________\n",
            "max_pooling2d_6 (MaxPooling2 (None, 112, 112, 64)      0         \n",
            "_________________________________________________________________\n",
            "conv2d_14 (Conv2D)           (None, 112, 112, 128)     73856     \n",
            "_________________________________________________________________\n",
            "conv2d_15 (Conv2D)           (None, 112, 112, 128)     147584    \n",
            "_________________________________________________________________\n",
            "batch_normalization_10 (Batc (None, 112, 112, 128)     512       \n",
            "_________________________________________________________________\n",
            "max_pooling2d_7 (MaxPooling2 (None, 56, 56, 128)       0         \n",
            "_________________________________________________________________\n",
            "flatten (Flatten)            (None, 401408)            0         \n",
            "_________________________________________________________________\n",
            "dense_6 (Dense)              (None, 64)                25690176  \n",
            "_________________________________________________________________\n",
            "batch_normalization_11 (Batc (None, 64)                256       \n",
            "_________________________________________________________________\n",
            "dropout_3 (Dropout)          (None, 64)                0         \n",
            "_________________________________________________________________\n",
            "dense_7 (Dense)              (None, 3)                 195       \n",
            "=================================================================\n",
            "Total params: 25,951,555\n",
            "Trainable params: 25,690,883\n",
            "Non-trainable params: 260,672\n",
            "_________________________________________________________________\n",
            "0    976\n",
            "1    976\n",
            "2    976\n",
            "Name: class, dtype: int64\n",
            "0    244\n",
            "2    244\n",
            "1    244\n",
            "Name: class, dtype: int64\n",
            "Running fold 4\n",
            "Model: \"model_4\"\n",
            "_________________________________________________________________\n",
            "Layer (type)                 Output Shape              Param #   \n",
            "=================================================================\n",
            "input_5 (InputLayer)         [(None, 224, 224, 3)]     0         \n",
            "_________________________________________________________________\n",
            "conv2d_16 (Conv2D)           (None, 224, 224, 64)      1792      \n",
            "_________________________________________________________________\n",
            "conv2d_17 (Conv2D)           (None, 224, 224, 64)      36928     \n",
            "_________________________________________________________________\n",
            "batch_normalization_12 (Batc (None, 224, 224, 64)      256       \n",
            "_________________________________________________________________\n",
            "max_pooling2d_8 (MaxPooling2 (None, 112, 112, 64)      0         \n",
            "_________________________________________________________________\n",
            "conv2d_18 (Conv2D)           (None, 112, 112, 128)     73856     \n",
            "_________________________________________________________________\n",
            "conv2d_19 (Conv2D)           (None, 112, 112, 128)     147584    \n",
            "_________________________________________________________________\n",
            "batch_normalization_13 (Batc (None, 112, 112, 128)     512       \n",
            "_________________________________________________________________\n",
            "max_pooling2d_9 (MaxPooling2 (None, 56, 56, 128)       0         \n",
            "_________________________________________________________________\n",
            "flatten (Flatten)            (None, 401408)            0         \n",
            "_________________________________________________________________\n",
            "dense_8 (Dense)              (None, 64)                25690176  \n",
            "_________________________________________________________________\n",
            "batch_normalization_14 (Batc (None, 64)                256       \n",
            "_________________________________________________________________\n",
            "dropout_4 (Dropout)          (None, 64)                0         \n",
            "_________________________________________________________________\n",
            "dense_9 (Dense)              (None, 3)                 195       \n",
            "=================================================================\n",
            "Total params: 25,951,555\n",
            "Trainable params: 25,690,883\n",
            "Non-trainable params: 260,672\n",
            "_________________________________________________________________\n",
            "0    976\n",
            "1    976\n",
            "2    976\n",
            "Name: class, dtype: int64\n",
            "2    244\n",
            "1    244\n",
            "0    244\n",
            "Name: class, dtype: int64\n",
            "Running fold 5\n"
          ]
        },
        {
          "name": "stdout",
          "output_type": "stream",
          "text": [
            "Model: \"model_5\"\n",
            "_________________________________________________________________\n",
            "Layer (type)                 Output Shape              Param #   \n",
            "=================================================================\n",
            "input_6 (InputLayer)         [(None, 224, 224, 3)]     0         \n",
            "_________________________________________________________________\n",
            "conv2d_20 (Conv2D)           (None, 224, 224, 64)      1792      \n",
            "_________________________________________________________________\n",
            "conv2d_21 (Conv2D)           (None, 224, 224, 64)      36928     \n",
            "_________________________________________________________________\n",
            "batch_normalization_15 (Batc (None, 224, 224, 64)      256       \n",
            "_________________________________________________________________\n",
            "max_pooling2d_10 (MaxPooling (None, 112, 112, 64)      0         \n",
            "_________________________________________________________________\n",
            "conv2d_22 (Conv2D)           (None, 112, 112, 128)     73856     \n",
            "_________________________________________________________________\n",
            "conv2d_23 (Conv2D)           (None, 112, 112, 128)     147584    \n",
            "_________________________________________________________________\n",
            "batch_normalization_16 (Batc (None, 112, 112, 128)     512       \n",
            "_________________________________________________________________\n",
            "max_pooling2d_11 (MaxPooling (None, 56, 56, 128)       0         \n",
            "_________________________________________________________________\n",
            "flatten (Flatten)            (None, 401408)            0         \n",
            "_________________________________________________________________\n",
            "dense_10 (Dense)             (None, 64)                25690176  \n",
            "_________________________________________________________________\n",
            "batch_normalization_17 (Batc (None, 64)                256       \n",
            "_________________________________________________________________\n",
            "dropout_5 (Dropout)          (None, 64)                0         \n",
            "_________________________________________________________________\n",
            "dense_11 (Dense)             (None, 3)                 195       \n",
            "=================================================================\n",
            "Total params: 25,951,555\n",
            "Trainable params: 25,690,883\n",
            "Non-trainable params: 260,672\n",
            "_________________________________________________________________\n"
          ]
        }
      ],
      "source": [
        "submission_prediction = []\n",
        "submission_predictions = []\n",
        "\n",
        "for epoch, (train_index, val_index) in enumerate(skf.split(X_train, Y_train)):\n",
        "    x_train, x_val = X_train.iloc[train_index], X_train.iloc[val_index]\n",
        "    y_train, y_val = Y_train.iloc[train_index], Y_train.iloc[val_index]\n",
        "\n",
        "    print(y_train.value_counts())\n",
        "    print(y_val.value_counts())\n",
        "\n",
        "    train = pd.concat([x_train, y_train], axis=1)\n",
        "    val = pd.concat([x_val, y_val], axis = 1)\n",
        "\n",
        "    # copy the images according to the fold\n",
        "    copy_images(train, 'train')\n",
        "    copy_images(val, 'val')\n",
        "\n",
        "    print('Running fold '+ str(epoch+1))\n",
        "\n",
        "    # CREATE MODEL\n",
        "    model = get_model()\n",
        "    model.summary()"
      ]
    },
    {
      "cell_type": "code",
      "execution_count": null,
      "metadata": {
        "id": "JVO5ibusrczy"
      },
      "outputs": [],
      "source": [
        "train.reset_index(inplace=True)\n",
        "train.index = train['index']\n",
        "train.drop(['level_0','index'],axis=1,inplace=True)"
      ]
    },
    {
      "cell_type": "code",
      "execution_count": null,
      "metadata": {
        "id": "BiJJOELArczy",
        "outputId": "d1ca7c0b-41cb-43b1-898a-a3f30c3f509c"
      },
      "outputs": [
        {
          "data": {
            "text/html": [
              "<div>\n",
              "<style scoped>\n",
              "    .dataframe tbody tr th:only-of-type {\n",
              "        vertical-align: middle;\n",
              "    }\n",
              "\n",
              "    .dataframe tbody tr th {\n",
              "        vertical-align: top;\n",
              "    }\n",
              "\n",
              "    .dataframe thead th {\n",
              "        text-align: right;\n",
              "    }\n",
              "</style>\n",
              "<table border=\"1\" class=\"dataframe\">\n",
              "  <thead>\n",
              "    <tr style=\"text-align: right;\">\n",
              "      <th></th>\n",
              "      <th>directory</th>\n",
              "      <th>class</th>\n",
              "    </tr>\n",
              "    <tr>\n",
              "      <th>index</th>\n",
              "      <th></th>\n",
              "      <th></th>\n",
              "    </tr>\n",
              "  </thead>\n",
              "  <tbody>\n",
              "    <tr>\n",
              "      <th>3502</th>\n",
              "      <td>normal/00000242_003.png</td>\n",
              "      <td>0</td>\n",
              "    </tr>\n",
              "    <tr>\n",
              "      <th>3855</th>\n",
              "      <td>normal/00000798_002.png</td>\n",
              "      <td>0</td>\n",
              "    </tr>\n",
              "    <tr>\n",
              "      <th>529</th>\n",
              "      <td>covid/COVID19(16).jpg</td>\n",
              "      <td>1</td>\n",
              "    </tr>\n",
              "    <tr>\n",
              "      <th>3660</th>\n",
              "      <td>normal/00001068_003.png</td>\n",
              "      <td>0</td>\n",
              "    </tr>\n",
              "    <tr>\n",
              "      <th>4371</th>\n",
              "      <td>normal/00001039_004.png</td>\n",
              "      <td>0</td>\n",
              "    </tr>\n",
              "    <tr>\n",
              "      <th>...</th>\n",
              "      <td>...</td>\n",
              "      <td>...</td>\n",
              "    </tr>\n",
              "    <tr>\n",
              "      <th>951</th>\n",
              "      <td>covid/COVID19(225).jpg</td>\n",
              "      <td>1</td>\n",
              "    </tr>\n",
              "    <tr>\n",
              "      <th>3374</th>\n",
              "      <td>normal/00000373_000.png</td>\n",
              "      <td>0</td>\n",
              "    </tr>\n",
              "    <tr>\n",
              "      <th>681</th>\n",
              "      <td>covid/COVID-19 (43).jpg</td>\n",
              "      <td>1</td>\n",
              "    </tr>\n",
              "    <tr>\n",
              "      <th>2699</th>\n",
              "      <td>pneumonia/person1355_bacteria_3449.jpeg</td>\n",
              "      <td>2</td>\n",
              "    </tr>\n",
              "    <tr>\n",
              "      <th>2049</th>\n",
              "      <td>pneumonia/person446_bacteria_1931.jpeg</td>\n",
              "      <td>2</td>\n",
              "    </tr>\n",
              "  </tbody>\n",
              "</table>\n",
              "<p>2928 rows × 2 columns</p>\n",
              "</div>"
            ],
            "text/plain": [
              "                                     directory  class\n",
              "index                                                \n",
              "3502                   normal/00000242_003.png      0\n",
              "3855                   normal/00000798_002.png      0\n",
              "529                      covid/COVID19(16).jpg      1\n",
              "3660                   normal/00001068_003.png      0\n",
              "4371                   normal/00001039_004.png      0\n",
              "...                                        ...    ...\n",
              "951                     covid/COVID19(225).jpg      1\n",
              "3374                   normal/00000373_000.png      0\n",
              "681                    covid/COVID-19 (43).jpg      1\n",
              "2699   pneumonia/person1355_bacteria_3449.jpeg      2\n",
              "2049    pneumonia/person446_bacteria_1931.jpeg      2\n",
              "\n",
              "[2928 rows x 2 columns]"
            ]
          },
          "execution_count": 53,
          "metadata": {},
          "output_type": "execute_result"
        }
      ],
      "source": [
        "train"
      ]
    },
    {
      "cell_type": "code",
      "execution_count": null,
      "metadata": {
        "id": "3pUj0-hyrczz"
      },
      "outputs": [],
      "source": [
        "model.fit(\n",
        "  train,train,\n",
        "  batch_size=len(folders),\n",
        "  validation_data=(test_X,test_y),\n",
        "  epochs=50,\n",
        "  shuffle=True,\n",
        "  callbacks=Callbacks\n",
        "  )"
      ]
    }
  ],
  "metadata": {
    "kernelspec": {
      "display_name": "Python 3 (ipykernel)",
      "language": "python",
      "name": "python3"
    },
    "language_info": {
      "codemirror_mode": {
        "name": "ipython",
        "version": 3
      },
      "file_extension": ".py",
      "mimetype": "text/x-python",
      "name": "python",
      "nbconvert_exporter": "python",
      "pygments_lexer": "ipython3",
      "version": "3.7.3"
    },
    "colab": {
      "provenance": [],
      "include_colab_link": true
    }
  },
  "nbformat": 4,
  "nbformat_minor": 0
}